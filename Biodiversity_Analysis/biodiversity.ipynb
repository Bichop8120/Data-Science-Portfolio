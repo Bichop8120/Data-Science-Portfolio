{
 "cells": [
  {
   "cell_type": "code",
   "execution_count": 4,
   "metadata": {},
   "outputs": [
    {
     "data": {
      "text/plain": [
       "\"\\nThis is my exploratory data analysis of the National Park Service's data on species location, names, and number of observations.\\nI will be using the pandas library to manipulate the data and matplotlib to visualize it.\\n\\nI would first like to see the number of species in each park, and then the number of observations of each species in each park.\\n\\n\\n    First Step  : I will import the data and take a look at it.\\n    Second Step : Then the data needs cleaned and organized.\\n    Third Step  : I then will find the unique species in each park.\\n    Fourth Step : The unique species in the park will then be used to find their count number.\\n    Fifth Step  : Then I will design an appropriate visualization to display the data.\\n    \\nI would also like to see the number of species in each category, and the number of observations of each species in each category.\\n\\n    First Step  : I will find the unique species in each category, and get their population number.\\n    Second Step : Then I will research more about the different parks to where the species are located.\\n    Third Step  : Will try to determine a correlation between species and their climates/locations.\\n    Fourth Step : Finally I will work to design good visualizations for this information.\\n    \\nAnother statistic i'm interested in is the number of predators and their effect of the number of observations of other species, mainly prey.\\n\\n    First Step  : I will find the unique species in each category, and get their population number.\\n    Second Step : We need to determine the predator species and their prey.\\n    Third Step  : Now we can use these numbers to find the correlation between the predator numbers and their prey.\\n    Fourth Step : I will work to design some visualizations that help people understand the data better.\\n    \\nAfter I find these statistics, I will use them to create a helpful dashboard integrating all the information.\\n\""
      ]
     },
     "execution_count": 4,
     "metadata": {},
     "output_type": "execute_result"
    }
   ],
   "source": [
    "    \"\"\"\n",
    "    This is my exploratory data analysis of the National Park Service's data on species location, names, and number of observations.\n",
    "    I will be using the pandas library to manipulate the data and matplotlib to visualize it.\n",
    "    \n",
    "    I would first like to see the number of species in each park, and then the number of observations of each species in each park.\n",
    "    \n",
    "\n",
    "        First Step  : I will import the data and take a look at it.\n",
    "        Second Step : Then the data needs cleaned and organized.\n",
    "        Third Step  : I then will find the unique species in each park.\n",
    "        Fourth Step : The unique species in the park will then be used to find their count number.\n",
    "        Fifth Step  : Then I will design an appropriate visualization to display the data.\n",
    "        \n",
    "    I would also like to see the number of species in each category, and the number of observations of each species in each category.\n",
    "    \n",
    "        First Step  : I will find the unique species in each category, and get their population number.\n",
    "        Second Step : Then I will research more about the different parks to where the species are located.\n",
    "        Third Step  : Will try to determine a correlation between species and their climates/locations.\n",
    "        Fourth Step : Finally I will work to design good visualizations for this information.\n",
    "        \n",
    "    Another statistic i'm interested in is the number of predators and their effect of the number of observations of other species, mainly prey.\n",
    "\n",
    "        First Step  : I will find the unique species in each category, and get their population number.\n",
    "        Second Step : We need to determine the predator species and their prey.\n",
    "        Third Step  : Now we can use these numbers to find the correlation between the predator numbers and their prey.\n",
    "        Fourth Step : I will work to design some visualizations that help people understand the data better.\n",
    "        \n",
    "    After I find these statistics, I will use them to create a helpful dashboard integrating all the information.\n",
    "    \"\"\""
   ]
  },
  {
   "cell_type": "code",
   "execution_count": 5,
   "metadata": {},
   "outputs": [],
   "source": [
    "import pandas as pd\n",
    "import numpy as np\n",
    "import matplotlib.pyplot as plt\n",
    "import seaborn as sns\n",
    "import os\n",
    "\n",
    "# Load the data\n",
    "observations = pd.read_csv('observations.csv')\n",
    "species_info = pd.read_csv('species_info.csv')\n",
    "\n",
    "# Inspect each dataframe\n",
    "#print(observations.head())\n",
    "#print(species_info.head())\n",
    "#print(observations.dtypes)\n",
    "#print(species_info.dtypes)"
   ]
  },
  {
   "cell_type": "code",
   "execution_count": 6,
   "metadata": {},
   "outputs": [],
   "source": [
    "\"\"\"\n",
    "    These Functions will be used later when we take inputs from the user to help them to navigate the data. This way they can find the information they need.\n",
    "    They will also allow us to translate their inputs to the correct data in the data frame.\n",
    "    This is necessary because the first data frame uses scientific names, and the second uses either common names or scientific names.\n",
    "    Since we can translate between the two, we can display data from the data frames using common or scientific inputs.\n",
    "    These will greatly speed up our retrieval of data from the data frames.\n",
    "\"\"\"\n",
    "\n",
    "def find_parks_by_animal(animal):\n",
    "    \"\"\"\n",
    "    This function finds the parks in which a specific animal is located.\n",
    "    \"\"\"\n",
    "    \n",
    "    return observations[observations['scientific_name'] == animal]['park_name'].unique()\n",
    "\n",
    "def find_species_by_category(category):\n",
    "    \"\"\"\n",
    "    This function finds the species in a specific category.\n",
    "    \"\"\"\n",
    "    \n",
    "    return species_info[species_info['category'] == category]['scientific_name'].unique()\n",
    "\n",
    "def find_species_by_park(park):\n",
    "    \"\"\"\n",
    "    This function finds the species in a specific park.\n",
    "    \"\"\"\n",
    "    \n",
    "    return observations[observations['park_name'] == park]['scientific_name'].unique()\n",
    "\n",
    "def find_species_by_park_and_category(park, category):\n",
    "    \"\"\"\n",
    "    This function finds the species in a specific park and category.\n",
    "    \"\"\"\n",
    "    \n",
    "    species_park = find_species_by_park(park)\n",
    "    species_category = find_species_by_category(category)\n",
    "    \n",
    "    return np.intersect1d(species_park, species_category)\n",
    "\n",
    "def translate_common_name(scientific_name):\n",
    "    \"\"\"\n",
    "    This function translates the scientific name of a species to its common name.\n",
    "    \"\"\"\n",
    "    \n",
    "    return species_info[species_info['scientific_name'] == scientific_name]['common_names'].values[0]\n",
    "\n",
    "def translate_scientific_name(common_name):\n",
    "    \"\"\"\n",
    "    This function translates the common name of a species to its scientific name.\n",
    "    \"\"\"\n",
    "    \n",
    "    for row in species_info.itertuples():\n",
    "        if common_name in row.common_names:\n",
    "            return row.scientific_name\n",
    "    \n",
    "    \n",
    "def print_park_species(park):\n",
    "    \"\"\"\n",
    "    This function prints the species in a specific park.\n",
    "    \"\"\"\n",
    "    \n",
    "    species = find_species_by_park(park)\n",
    "    for animal in species:\n",
    "        print(translate_common_name(animal))\n",
    "        \n",
    "def print_park_species_by_category(park, category):\n",
    "    \"\"\"\n",
    "    This function prints the species in a specific park and category.\n",
    "    \"\"\"\n",
    "    \n",
    "    species = find_species_by_park_and_category(park, category)\n",
    "    for animal in species:\n",
    "        print(translate_common_name(animal))\n",
    "        \n",
    "def print_species_parks(species):\n",
    "    \"\"\"\n",
    "    This function prints the parks in which a specific animal is located.\n",
    "    \"\"\"\n",
    "    \n",
    "    parks = find_parks_by_species(species)\n",
    "    for park in parks:\n",
    "        print(park)\n",
    "        \n"
   ]
  },
  {
   "cell_type": "markdown",
   "metadata": {},
   "source": [
    "This is where we will start our analysis!\n",
    "\n",
    "We first want to find the number of animal species in each park, then we will worry about their populations."
   ]
  },
  {
   "cell_type": "code",
   "execution_count": 33,
   "metadata": {},
   "outputs": [],
   "source": [
    "\n",
    "parks = observations['park_name'].unique()\n",
    "\n",
    "gsmnp_mammals = find_species_by_park_and_category('Great Smoky Mountains National Park', 'Mammal')\n",
    "gsmnp_birds = find_species_by_park_and_category('Great Smoky Mountains National Park', 'Bird')\n",
    "gsmnp_reptiles = find_species_by_park_and_category('Great Smoky Mountains National Park', 'Reptile')\n",
    "gsmnp_amphibians = find_species_by_park_and_category('Great Smoky Mountains National Park', 'Amphibian')\n",
    "gsmnp_fish = find_species_by_park_and_category('Great Smoky Mountains National Park', 'Fish')\n",
    "\n",
    "ynp_mammals = find_species_by_park_and_category('Yellowstone National Park', 'Mammal')\n",
    "ynp_birds = find_species_by_park_and_category('Yellowstone National Park', 'Bird')\n",
    "ynp_reptiles = find_species_by_park_and_category('Yellowstone National Park', 'Reptile')\n",
    "ynp_amphibians = find_species_by_park_and_category('Yellowstone National Park', 'Amphibian')\n",
    "ynp_fish = find_species_by_park_and_category('Yellowstone National Park', 'Fish')\n",
    "\n",
    "bnp_mammals = find_species_by_park_and_category('Bryce National Park', 'Mammal')\n",
    "bnp_birds = find_species_by_park_and_category('Bryce National Park', 'Bird')\n",
    "bnp_reptiles = find_species_by_park_and_category('Bryce National Park', 'Reptile')\n",
    "bnp_amphibians = find_species_by_park_and_category('Bryce National Park', 'Amphibian')\n",
    "bnp_fish = find_species_by_park_and_category('Bryce National Park', 'Fish')\n",
    "\n",
    "yosemitenp_mammals = find_species_by_park_and_category('Yosemite National Park', 'Mammal')\n",
    "yosemitenp_birds = find_species_by_park_and_category('Yosemite National Park', 'Bird')\n",
    "yosemitenp_reptiles = find_species_by_park_and_category('Yosemite National Park', 'Reptile')\n",
    "yosemitenp_amphibians = find_species_by_park_and_category('Yosemite National Park', 'Amphibian')\n",
    "yosemitenp_fish = find_species_by_park_and_category('Yosemite National Park', 'Fish')\n"
   ]
  },
  {
   "cell_type": "code",
   "execution_count": null,
   "metadata": {},
   "outputs": [],
   "source": [
    "plt.figure(figsize=(20, 10))\n",
    "\n",
    "plt.subplot(2, 2, 1)\n",
    "\n",
    "barWidth = 0.25\n",
    "\n",
    "\n"
   ]
  },
  {
   "cell_type": "markdown",
   "metadata": {},
   "source": [
    "Now we can try and find the number of observations of each species. To do this we will need to use both dataframes, to translate the animals into their common names for an easier to understand display. We will also need to use their name to find which category each species belongs too, as this isn't in the observations dataframe. "
   ]
  },
  {
   "cell_type": "code",
   "execution_count": 9,
   "metadata": {},
   "outputs": [
    {
     "name": "stdout",
     "output_type": "stream",
     "text": [
      "{'Eurasian Elk, Moose': 44, 'Yellowstone Moose': 83, 'Antelope, Pronghorn': 119, 'Pallid Bat, Pallid Bat': 61, 'Sierra Nevada Mountain Beaver': 57, 'Ringtail': 76, 'Bison, Buffalo': 117, 'Northern Short Tailed Shrew, Northern Short-Tailed Shrew': 86, 'American Bison, Bison': 77, 'Aurochs, Aurochs, Domestic Cattle (Feral), Domesticated Cattle': 56, 'Golden-Mantled Ground Squirrel': 74, 'Coyote': 68, 'Gray Wolf': 59, 'Red Wolf': 13, 'American Beaver, Beaver': 243, 'Wapiti Or Elk': 161, 'California Pocket Mouse': 92, 'Southern Red-Backed Vole': 93, \"Gapper's Red-Backed Vole\": 98, 'Star-Nosed Mole': 70, \"Rafinesque's Big-Eared Bat\": 80, \"Mule-Eared Bat, Pacific Townsend's Big-Eared Bat, Townsend's Big-Eared Bat, Townsend's Big-Eared Bat, Western Big-Eared Bat, Western Long-Eared Bat, Western Lump-Nosed Bat\": 185, 'Least Shrew': 68, 'Virginia Opossum, Virginia Oppossum': 174, 'Big Brown Bat': 146, 'Feral Horse, Horse': 61, 'Common Porcupine, Porcupine': 155, 'Spotted Bat, Spotted Bat': 94, 'Western Mastiff Bat': 40, 'Mountain Lion': 72, 'Wild Cat, Wildcat': 61, 'Northern Flying Squirrel': 82, 'Carolina Northern Flying Squirrel, Northern Flying Squirrel': 21, 'Southern Flying Squirrel': 40, 'Wolverine': 90, 'Human, Humans, Man': 80, 'Silver-Haired Bat': 75, 'Western Red Bat': 70, 'Eastern Red Bat, Red Bat': 127, 'Hoary Bat': 144, 'Sagebrush Vole': 52, 'Snowshoe Hare': 62, 'Sierra Nevada Snowshoe Hare': 70, 'White-Tailed Jack Rabbit, White-Tailed Jackrabbit': 80, 'Western White-Tailed Jackrabbit': 84, 'River Otter': 69, 'Northern River Otter': 127, 'Canada Lynx, Canadian Lynx, Lynx': 59, 'Bobcat': 30, 'Yellow-Bellied Marmot': 58, 'Woodchuck': 80, 'Pine Marten': 119, 'Fisher': 43, 'Striped Skunk': 63, 'California Meadow Mouse': 71, 'Rock Vole, Southern Rock Vole': 28, 'Coronation Island Vole, Long-Tailed Vole': 212, 'Montane Vole': 84, 'Meadow Vole': 70, 'Woodland Vole': 94, 'Richardson Water Vole': 39, 'House Mouse': 69, 'Mink (Or Weasel)': 82, 'Ermine, Short Tailed Weasel': 161, 'Long-Tailed Weasel': 77, 'Least Weasel': 75, 'Mink': 132, 'Mississippi Myotis, Southeastern Myotis': 60, 'California Myotis, California Myotis, Californian Myotis': 159, 'Small-Footed Myotis, Western Small-Footed Bat, Western Small-Footed Myotis': 158, 'Long-Eared Myotis, Long-Eared Myotis': 46, 'Gray Myotis': 26, \"Keen's Myotis\": 29, 'Eastern Small-Footed Bat, Eastern Small-Footed Myotis': 49, 'Little Brown Bat, Little Brown Myotis': 174, 'Northern Long-Eared Bat, Northern Myotis': 34, 'Indiana Bat, Indiana Or Social Myotis': 14, 'Fringed Myotis, Fringed Myotis': 75, 'Long-Legged Myotis, Long-Legged Myotis': 63, 'Yuma Myotis, Yuma Myotis': 83, 'Woodland Jumping Mouse': 74, 'Yellow Pine Chipmunk': 64, 'Least Chipmunk': 78, 'Uinta Chipmunk': 172, 'Bushy-Tailed Woodrat': 75, 'Eastern Woodrat': 78, 'Big-Eared Woodrat': 77, 'Allegheny Woodrat, Appalachian Woodrat': 105, 'American Mink': 77, 'Evening Bat': 84, 'American Pika, Pika': 169, 'Golden Mouse': 59, 'Mule Deer, Mule Deer': 71, 'White-Tailed Deer': 109, 'Muskrat': 125, 'Mountain Goat, Mountain Goat, Rocky Mountain Goat': 68, 'Marsh Rice Rat': 40, 'California Ground Squirrel': 89, 'Domestic Sheep, Mouflon, Red Sheep, Sheep (Feral)': 76, 'Bighorn Sheep, Bighorn Sheep': 48, 'Sierra Nevada Bighorn Sheep': 25, 'Hairy-Tailed Mole': 72, 'Canyon Bat': 81, 'Brush Deermouse, Brush Mouse': 42, 'California Mouse': 79, 'Cotton Mouse': 72, 'White-Footed Mouse': 67, 'Deer Mouse': 114, 'Pi_On Deermouse, Pi_On Mouse, Pinyon Mouse': 85, 'Heather Vole, Western Heather Vole': 64, 'Eastern Pipistrelle': 85, 'Common Raccoon, Raccoon': 247, 'Panther (Mountain Lion)': 239, 'Norway Rat': 77, 'Black Rat': 77, 'Eastern Harvest Mouse': 34, 'Western Harvest Mouse': 79, 'Eastern Mole': 81, 'Broad-Footed Mole': 82, 'Eastern Gray Squirrel, Gray Squirrel': 77, 'Western Gray Squirrel': 71, 'Eastern Fox Squirrel, Fox Squirrel': 94, 'Common Shrew, Masked Shrew': 132, 'Long-Tailed Or Rock Shrew, Long-Tailed Shrew': 100, 'Smoky Shrew': 101, 'Pygmy Shrew': 129, 'Southeastern Shrew': 42, 'Mount Lyell Shrew': 54, 'Dusky Shrew': 107, 'Dwarf Shrew, Rocky Mountain Dwarf Shrew': 60, 'Water Shrew': 169, \"Malheur Shrew, Preble's Shrew\": 59, 'Inyo Shrew': 91, \"Trowbridge's Shrew\": 73, 'Uinta Ground Squirrel': 66, 'Western Spotted Skunk': 62, 'Eastern Spotted Skunk': 160, 'Feral Hog, Wild Pig': 205, 'Desert Cottontail': 46, 'Brush Rabbit': 27, 'Eastern Cottontail': 57, 'Mountain Cottontail': 99, 'Appalachian Cottontail': 79, 'New England Cottontail': 88, 'Southern Bog Lemming': 63, \"Stone's Southern Bog Lemming\": 52, 'Mexican Free-Tailed Bat': 71, 'Alpine Chipmunk': 67, 'Yellow-Pine Chipmunk': 102, \"Merriam's Chipmunk\": 72, 'Long-Eared Chipmunk': 62, \"Allen's Chipmunk, Shadow Chipmunk\": 99, 'Lodgepole Chipmunk': 69, 'Eastern Chipmunk': 53, 'Chickaree': 78, 'Red Squirrel': 54, 'American Badger, Badger': 137, \"Botta's Pocket Gopher\": 83, 'Mountain Pocket Gopher': 56, 'Northern Pocket Gopher': 73, \"Belding's Ground Squirrel\": 112, 'Common Gray Fox, Gray Fox': 162, 'Black Bear': 122, 'Brown Bear, Grizzly Bear': 104, 'Grizzly Bear': 50, 'Black Fox, Cross Fox, Red Fox, Silver Fox': 66, 'Red Fox': 76, 'Sierra Nevada Red Fox': 70, 'Meadow Jumping Mouse': 35, 'Western Jumping Mouse': 76, 'Common Redpoll, Redpoll': 68, \"Cooper's Hawk\": 65, 'Northern Goshawk': 78, 'Sharp-Shinned Hawk': 69, 'Spotted Sandpiper': 87, \"Clark's Grebe\": 68, 'Western Grebe': 64, 'Saw-Whet Owls': 42, 'Northern Saw-Whet Owl': 86, 'Boreal Owl': 82, 'White-Throated Swift': 77, 'Red-Winged Blackbird': 83, \"Bachman's Sparrow\": 49, 'Rufous-Crowned Sparrow': 51, 'Wood Duck': 77, 'Chukar': 180, \"Henslow's Sparrow\": 28, \"Le Conte's Sparrow\": 86, 'Grasshopper Sparrow': 58, 'Black-Throated Sparrow': 83, 'Northern Pintail': 61, 'American Wigeon': 98, 'Northern Shoveler': 82, 'Green-Winged Teal': 60, 'Cinnamon Teal': 75, 'Blue-Winged Teal': 68, 'Eurasian Wigeon': 99, 'Mallard': 66, 'American Black Duck': 81, 'Gadwall': 84, 'Greater White-Fronted Goose': 76, 'Water Pipit': 41, 'Western Scrub-Jay': 61, 'Golden Eagle': 65, 'Black-Chinned Hummingbird': 72, 'Ruby-Throated Hummingbird': 81, 'Great Egret': 91, 'Great Blue Heron': 92, 'Ruddy Turnstone': 66, 'Sage Sparrow': 101, 'Sagebrush Sparrow': 102, 'Short-Eared Owl': 45, 'Long-Eared Owl': 56, 'Burrowing Owl': 93, 'Lesser Scaup': 115, 'Redhead': 115, 'Ring-Necked Duck': 103, 'Greater Scaup': 101, 'Canvasback': 84, 'Tufted Titmouse': 86, 'Oak Titmouse': 100, 'Upland Sandpiper': 78, 'Cedar Waxwing': 79, 'Bohemian Waxwing': 62, 'Ruffed Grouse': 80, 'American Bittern': 94, 'Brant': 150, 'Canada Goose': 110, 'Cackling Goose': 139, 'Snowy Owl': 114, 'Great Horned Owl': 79, 'Cattle Egret, Western Cattle Egret': 49, 'Bufflehead': 84, 'Common Goldeneye': 53, \"Barrow's Goldeneye\": 66, 'Red-Tailed Hawk': 106, 'Rough-Legged Hawk': 69, 'Red-Shouldered Hawk': 31, 'Broad-Winged Hawk': 107, 'Ferruginous Hawk': 80, \"Swainson's Hawk\": 59, 'Green-Backed Heron': 183, 'Lark Bunting': 44, 'Lapland Longspur': 104, \"Mccown's Longspur\": 51, 'Chestnut-Collared Longspur': 85, 'Sanderling': 77, 'Dunlin': 56, \"Baird's Sandpiper\": 59, 'Red Knot': 105, 'White-Rumped Sandpiper': 67, 'Stilt Sandpiper': 80, 'Western Sandpiper': 96, 'Pectoral Sandpiper': 71, 'Least Sandpiper': 91, 'Semipalmated Sandpiper': 58, 'California Quail': 63, \"Anna's Hummingbird\": 79, \"Chuck-Will's-Widow\": 95, 'Whip-Poor-Will': 60, 'Crested Caracara': 82, \"Wilson's Warbler\": 68, 'Northern Cardinal': 49, 'Common Redpoll': 77, 'Pine Siskin': 84, 'American Goldfinch': 104, \"Cassin's Finch\": 55, 'House Finch': 72, 'Purple Finch': 74, 'Turkey Vulture': 47, 'Veery': 47, 'Hermit Thrush': 62, 'Gray-Cheeked Thrush': 47, \"Swainson's Thrush\": 61, 'Canyon Wren': 33, 'Willet': 74, 'Greater Sage Grouse, Greater Sage-Grouse, Sage Grouse': 159, 'Brown Creeper': 63, 'Eurasian Treecreeper': 69, 'Belted Kingfisher': 70, 'Ringed Kingfisher': 73, 'Chimney Swift': 62, \"Vaux's Swift\": 53, 'Wrentit': 92, 'Snowy Plover': 57, 'Semipalmated Plover': 59, 'Killdeer': 100, 'Snow Goose': 121, \"Ross' Goose, Ross's Goose\": 59, 'Black Tern': 46, 'Lark Sparrow': 61, 'Common Nighthawk': 85, 'American Dipper': 49, 'Northern Harrier': 54, 'Marsh Wren': 108, 'Sedge Wren': 65, 'Long-Tailed Duck, Oldsquaw': 70, 'Evening Grosbeak': 63, 'Yellow-Billed Cuckoo': 80, 'Black-Billed Cuckoo': 87, 'Northern Flicker': 94, 'Northern Bobwhite': 83, 'Rock Dove': 169, 'Olive-Sided Flycatcher': 40, 'Western Wood Pewee, Western Wood-Pewee': 172, 'Eastern Wood-Pewee': 58, 'Black Vulture': 61, 'American Crow': 46, 'Common Raven': 58, 'Yellow Rail': 18, 'Blue Jay': 105, \"Steller's Jay\": 48, 'Trumpeter Swan': 34, 'Tundra Swan': 114, 'Whooper Swan': 54, 'Black Swift': 69, 'Sooty Grouse': 77, 'Dusky Grouse': 54, 'Black-Throated Blue Warbler': 84, 'Bay-Breasted Warbler': 76, 'Cerulean Warbler': 47, 'Yellow-Rumped Warbler': 80, 'Prairie Warbler': 103, 'Yellow-Throated Warbler': 47, 'Blackburnian Warbler': 73, 'Magnolia Warbler': 105, 'Palm Warbler': 53, 'Chestnut-Sided Warbler': 95, 'Yellow Warbler': 82, 'Pine Warbler': 103, 'Blackpoll Warbler': 67, 'Cape May Warbler': 59, 'Black-Throated Green Warbler': 72, 'Bobolink': 61, 'Pileated Woodpecker': 60, 'Gray Catbird': 140, 'Passenger Pigeon': 55, 'Little Blue Heron': 89, 'Snowy Egret': 66, 'Tricolored Heron': 82, 'American Swallow-Tailed Kite, Swallow-Tailed Kite': 26, 'White-Tailed Kite': 87, 'Alder Flycatcher': 62, 'Pacific-Slope Flycatcher': 93, 'Yellow-Bellied Flycatcher': 82, \"Hammond's Flycatcher\": 54, 'Least Flycatcher': 47, 'Dusky Flycatcher': 48, 'Cordilleran Flycatcher': 42, 'Willow Flycatcher': 94, 'Acadian Flycatcher': 70, 'Gray Flycatcher, Grey Flycatcher': 153, 'Horned Lark': 97, 'Rusty Blackbird': 93, \"Brewer's Blackbird\": 99, 'Merlin': 28, 'Prairie Falcon': 55, 'Peregrine Falcon': 38, 'American Peregrine Falcon': 70, 'American Kestrel': 54, 'American Coot': 114, \"Wilson's Snipe\": 91, 'Common Snipe': 66, 'Common Moorhen': 37, 'Common Loon': 121, 'Pacific Diver, Pacific Loon': 88, 'Red-Throated Diver, Red-Throated Loon': 76, 'Greater Roadrunner': 38, \"Macgillivray's Warbler\": 80, 'Common Yellowthroat': 86, 'Mountain Pygmy Owl, Northern Pygmy-Owl': 188, 'Whooping Crane': 13, 'Sandhill Crane': 118, 'Blue Grosbeak': 93, 'California Condor': 15, 'Pinyon Jay': 73, 'Bald Eagle': 72, 'Worm-Eating Warbler': 63, 'Black-Necked Stilt': 54, 'Barn Swallow': 45, 'Harlequin Duck': 66, 'Caspian Tern': 82, 'Wood Thrush': 55, 'Yellow-Breasted Chat': 69, \"Bullock's Oriole\": 32, 'Baltimore Oriole, Northern Oriole': 66, \"Scott's Oriole\": 76, 'Orchard Oriole': 70, 'Mississippi Kite': 85, 'Least Bittern': 82, 'Varied Thrush': 102, 'Dark-Eyed Junco': 79, 'Gray-Headed Junco': 66, 'Slate-Colored Junco': 81, 'Oregon Junco': 67, 'White-Tailed Ptarmigan': 99, 'Great Grey Shrike, Northern Shrike': 141, 'Loggerhead Shrike': 68, 'Herring Gull': 45, 'European Herring Gull, Herring Gull': 61, 'Laughing Gull': 78, 'California Gull': 59, 'Mew Gull': 68, 'Ring-Billed Gull': 76, \"Bonaparte's Gull\": 61, \"Franklin's Gull\": 85, 'Black Rosy-Finch': 56, 'Gray-Crowned Rosy-Finch': 81, 'Short-Billed Dowitcher': 81, 'Long-Billed Dowitcher': 39, \"Swainson's Warbler\": 56, 'Marbled Godwit': 82, 'Hudsonian Godwit': 77, 'Hooded Merganser': 77, 'Red Crossbill': 47, 'White-Winged Crossbill': 54, 'Eastern Screech Owl, Eastern Screech-Owl': 141, 'Western Screech-Owl': 70, 'Red-Bellied Woodpecker': 78, 'Red-Headed Woodpecker': 84, 'Acorn Woodpecker': 89, \"Lewis' Woodpecker, Lewis's Woodpecker\": 147, 'White-Winged Scoter': 114, 'Black Scoter': 80, 'Surf Scoter': 76, 'Wild Turkey': 44, 'Swamp Sparrow': 40, \"Lincoln's Sparrow\": 63, 'Song Sparrow': 86, 'California Towhee': 73, 'Common Merganser': 94, 'Red-Breasted Merganser': 64, 'Mockingbird, Northern Mockingbird': 200, 'Black-And-White Warbler': 95, 'Brown-Headed Cowbird': 57, \"Townsend's Solitaire\": 61, 'Wood Stork': 54, 'Ash-Throated Flycatcher': 54, 'Great Crested Flycatcher': 91, 'Painted Redstart': 82, \"Clark's Nutcracker\": 89, 'Long-Billed Curlew': 56, 'Yellow-Crowned Night-Heron': 100, 'Black-Crowned Night-Heron': 129, 'Band-Rumped Storm-Petrel': 58, 'Connecticut Warbler': 92, 'Kentucky Warbler': 71, 'Mourning Warbler': 90, 'Mountain Quail': 74, 'Sage Thrasher': 38, 'Orange-Crowned Warbler': 76, 'Tennessee Warbler': 71, 'Nashville Warbler': 59, \"Virginia's Warbler\": 74, 'Eastern Screech-Owl': 100, 'Flammulated Owl': 58, 'Ruddy Duck': 64, 'Osprey': 138, 'Northern Parula': 60, 'House Sparrow': 83, 'Savannah Sparrow': 67, 'Fox Sparrow': 142, 'Lazuli Bunting': 41, 'Indigo Bunting': 62, 'Band-Tailed Pigeon': 58, 'Peacock': 40, 'American White Pelican': 93, 'Brown Pelican': 47, 'Gray Partridge, Grey Partridge': 69, 'Gray Jay, Grey Jay': 37, 'Cliff Swallow': 177, 'Phainopepla': 26, 'Double-Crested Cormorant': 45, 'Common Poorwill': 58, 'Red Phalarope': 36, 'Red-Necked Phalarope': 52, \"Wilson's Phalarope\": 101, 'Common Pheasant, Ring-Necked Pheasant': 83, 'Rose-Breasted Grosbeak': 55, 'Black-Headed Grosbeak': 84, 'Ruff': 86, 'Black-Billed Magpie, Magpie': 97, 'Yellow-Billed Magpie': 83, 'White-Headed Woodpecker': 87, 'Red-Cockaded Woodpecker': 15, 'American Three-Toed Woodpecker': 62, \"Nuttall's Woodpecker\": 74, 'Downy Woodpecker': 55, 'Hairy Woodpecker': 70, 'Pine Grosbeak': 65, 'Green-Tailed Towhee': 62, 'Eastern Towhee, Rufous-Sided Towhee': 73, 'Spotted Towhee': 71, 'Western Tanager': 35, 'Scarlet Tanager': 22, 'Summer Tanager': 58, 'Snow Bunting': 89, 'White-Faced Ibis': 87, 'Glossy Ibis': 91, 'American Golden-Plover, Lesser Golden-Plover': 54, 'Black-Bellied Plover': 95, 'Horned Grebe': 59, 'Red-Necked Grebe': 70, 'Black-Necked Grebe, Eared Grebe': 143, 'Pied-Billed Grebe': 73, 'Black-Capped Chickadee': 97, 'Carolina Chickadee': 42, 'Mountain Chickadee': 53, 'Chestnut-Backed Chickadee': 126, 'Blue-Gray Gnatcatcher': 145, 'Vesper Sparrow': 102, 'Sora': 40, 'Purple Martin': 47, 'Prothonotary Warbler': 32, 'Bushtit': 97, 'Vermilion Flycatcher': 39, 'Great-Tailed Grackle': 99, 'Common Grackle': 111, 'King Rail': 81, 'Virginia Rail': 91, 'American Avocet': 59, 'Ruby-Crowned Kinglet': 52, 'Golden-Crowned Kinglet': 81, 'Bank Swallow': 168, 'Black-Legged Kittiwake': 93, 'Rock Wren': 52, 'Black Phoebe': 35, 'Eastern Phoebe': 69, \"Say's Phoebe\": 80, 'American Woodcock': 60, 'Ovenbird': 74, 'Louisiana Waterthrush': 54, 'Northern Waterthrush': 83, 'Calliope Hummingbird': 63, 'Broad-Tailed Hummingbird': 75, 'Rufous Hummingbird': 86, \"Allen's Hummingbird\": 42, 'Hooded Warbler': 91, \"Audubon's Warbler\": 103, 'Myrtle Warbler (Yellow-Rumped)': 56, 'Black-Throated Gray Warbler': 78, 'Hermit Warbler': 42, 'American Redstart': 85, \"Townsend's Warbler\": 58, 'Mountain Bluebird': 71, 'Western Bluebird': 61, 'Eastern Bluebird': 69, 'Red-Breasted Nuthatch': 41, 'White-Breasted Nuthatch': 66, 'Pygmy Nuthatch': 63, 'Red-Naped Sapsucker': 75, 'Red-Breasted Sapsucker': 58, \"Williamson's Sapsucker\": 51, 'Yellow-Bellied Sapsucker': 34, \"Lawrence's Goldfinch\": 105, 'Lesser Goldfinch': 89, 'Dickcissel': 84, 'American Tree Sparrow': 68, 'Black-Chinned Sparrow': 87, \"Brewer's Sparrow\": 72, 'Clay-Colored Sparrow': 85, 'Chipping Sparrow': 68, 'Field Sparrow': 72, 'Northern Rough-Winged Swallow': 117, 'Parasitic Jaeger': 76, \"Forster's Tern\": 85, 'Sooty Tern': 123, 'Common Tern': 71, 'Arctic Tern': 72, 'Eurasian Collared-Dove': 256, 'Great Gray Owl, Great Grey Owl': 120, 'Spotted Owl': 11, 'Barred Owl': 83, 'Eastern Meadowlark': 59, 'Western Meadowlark': 108, 'European Starling': 129, 'Tree Swallow': 69, 'Violet-Green Swallow': 86, \"Bewick's Wren\": 86, \"Appalachian Bewick's Wren\": 86, 'Carolina Wren': 64, 'California Thrasher': 85, 'Brown Thrasher': 80, 'Lesser Yellowlegs': 75, 'Wandering Tattler': 89, 'Greater Yellowlegs': 76, 'Solitary Sandpiper': 78, 'House Wren': 71, 'Pacific Wren': 80, 'Winter Wren': 114, 'American Robin': 69, 'Sharp-Tailed Grouse': 97, 'Scissor-Tailed Flycatcher': 114, 'Eastern Kingbird': 91, 'Western Kingbird': 48, 'Barn Owl, Common Barn-Owl': 159, 'Barn-Owls': 107, \"Bachman's Warbler, Bachman's Wood Warbler\": 18, \"Brewster's Warbler\": 98, \"Lawrence's Warbler\": 97, 'Blue-Winged Warbler': 80, \"Cassin's Vireo\": 75, 'Yellow-Throated Vireo': 86, 'Warbling Vireo': 46, 'White-Eyed Vireo': 66, \"Hutton's Vireo\": 71, 'Red-Eyed Vireo': 72, 'Philadelphia Vireo': 110, 'Blue-Headed Vireo, Solitary Vireo': 178, 'Canada Warbler': 67, 'Yellow-Headed Blackbird': 83, \"Sabine's Gull\": 67, 'Mourning Dove': 86, 'White-Throated Sparrow': 56, 'Golden-Crowned Sparrow': 36, 'White-Crowned Sparrow': 95, \"Gambel's White-Crowned Sparrow\": 87, 'Mountain White-Crowned Sparrow': 123, \"Harris's Sparrow\": 83, 'Northern Copperhead': 43, 'Northern Green Anole': 102, 'Eastern Spiny Softshell, Northern Spiny Softshell Turtle': 108, 'California (Western) Whiptail': 36, 'Worm Snakes, Wormsnakes': 99, 'Eastern Worm Snake': 83, 'Midwest Worm Snake': 79, 'Northern Scarlet Snake': 66, 'Rubber Boa': 150, 'Common Snapping Turtle': 83, 'Western Painted Turtle': 85, 'Midland Painted Turtle': 75, 'Eastern Painted Turtle': 60, 'Bog Turtle': 108, 'Eastern Six-Lined Racerunner': 67, 'Racer': 73, 'Northern Black Racer': 35, 'Western Yellow-Bellied Racer': 96, 'Sharp-Tailed Snake': 64, 'Timber Rattlesnake': 64, 'Northern Pacific Rattlesnake': 59, 'Prairie Rattlesnake': 55, 'Ringneck Snake, Ring-Necked Snake': 49, 'Northern Ringneck Snake': 61, 'Corn Snake': 100, 'Black Rat Snake': 75, 'Sierra (Northern) Alligator Lizard': 98, 'San Diego (Southern) Alligator Lizard': 70, 'Coal Skink': 59, 'Five-Lined Skink': 99, \"Gilbert's Skink\": 71, 'Southeastern Five-Lined Skink': 77, 'Broadhead Skink': 63, 'Western Skink': 55, 'Common Map Turtle, Map Turtle': 105, 'Ouachita Map Turtle': 83, 'Eastern Hognose Snake': 65, 'California Nightsnake': 116, 'Kingsnakes, Milk Snakes': 68, 'Mole Kingsnake': 73, 'California Kingsnake': 110, 'Eastern Kingsnake': 107, 'Black Kingsnake': 74, 'Scarlet Kingsnake': 117, 'Eastern Milk Snake': 85, 'Sierra Mountain Kingsnake': 73, 'California Striped Racer (Whipsnake)': 75, 'Plainbelly Water Snake': 99, 'Yellowbelly Water Snake, Yellowbelly Watersnake': 74, 'Northern Water Snake': 99, 'Eastern Rough Green Snake': 69, 'Eastern Slender Glass Lizard': 73, 'Coast Horned Lizard': 93, 'Greater Short-Horned Lizard': 39, 'Pacific Gopher Snake': 53, 'Bullsnake': 73, 'Northern Pine Snake': 73, 'Queen Snake': 53, 'Sagebrush Lizard': 77, 'Northern Sagebrush Lizard': 80, 'Western Fence Lizard': 71, 'Northern Fence Lizard': 18, 'Ground Skink': 37, 'Stripeneck Musk Turtle, Stripe-Necked Musk Turtle': 40, 'Common Musk Turtle': 51, 'Northern Brown Snake': 43, 'Midland Brown Snake': 75, 'Northern Redbelly Snake': 44, 'Southeastern Crowned Snake': 65, 'Eastern Box Turtle': 49, 'Sierra (Aquatic) Garter Snake': 87, 'Mountain (Terrestrial) Garter Snake': 61, 'Wandering Garter Snake': 70, 'Valley Garter Snake': 57, 'Common Garter Snake': 63, 'Slider': 86, 'Cumberland Slider': 48, 'Eastern Earth Snake': 53, 'Northern Cricket Frog': 59, 'Spotted Salamander': 51, 'Blotched Tiger Salamander': 79, 'Marbled Salamander': 78, 'Mole Salamander': 82, 'Boreal Toad': 57, 'California Toad (Western Toad)': 69, 'Yosemite Toad': 30, 'Arboreal Salamander': 71, 'Hell Hollow Slender Salamander': 86, 'Gregarius Slender Salamander': 39, 'Eastern American Toad': 59, \"Fowler's Toad, Woodhouse's Toad\": 76, \"Woodhouse's Toad\": 53, 'Eastern Hellbender': 58, 'Spotted Dusky Salamander': 48, 'Imitator Salamander': 65, 'Shovel-Nosed Salamander': 79, 'Seal Salamander': 88, 'Ocoee Salamander': 39, 'Black-Bellied Salamander': 58, 'Santeetlah Dusky Salamander, Santleetlah Dusky Salamander, Yellow Dusky Salamander': 92, 'Pigmy Salamander': 85, 'Sierra Nevada Ensatina': 70, 'Yellow-Eyed Ensatina': 71, 'Brook Salamanders': 88, 'Northern Two-Lined Salamander, Two-Lined Salamander': 115, 'Southern Two-Lined Salamander': 104, 'Three-Lined Salamander': 49, 'Junaluska Salamander': 46, 'Longtail Salamander': 66, 'Cave Salamander': 58, 'Blue Ridge Two-Lined Salamander': 54, 'Eastern Narrow-Mouthed Toad': 84, 'Spring Salamander': 74, 'Four-Toed Salamander': 74, 'Mount Lyell Salamander': 75, \"Cope's Gray Treefrog\": 76, 'Gray Treefrog': 47, 'Bullfrog': 66, 'Mudpuppy': 93, 'Eastern Red-Spotted Newt': 63, 'Woodland Salamanders': 101, 'Tellico Salamander': 69, 'Eastern Red-Backed Salamander, Redback Salamander': 68, 'Northern Zigzag Salamander': 91, 'Snorthern Slimy Salamander': 78, \"Appalachian Salamander, Jordan's Salamander\": 43, 'Southern Gray-Cheeked Salamander': 95, 'Southern Appalachian Salamander': 68, 'Southern Red-Backed Salamander': 89, 'Southern Zigzag Salamander': 105, \"Webster's Salamander\": 63, 'Mountain Chorus Frog': 96, 'Northern Spring Peeper': 91, 'Upland Chorus Frog': 82, 'Boreal Chorus Frog': 63, 'Northern Pacific Treefrog, Pacific Chorus Frog, Pacific Treefrog': 70, 'Striped Chorus Frog, Western Chorus Frog': 77, 'Mud Salamanders, Red Salamanders, Red Salamanders &Amp; Mud Salamanders': 105, 'Mud Salamander': 103, 'Midland Mud Salamander': 112, 'Eastern Mud Salamander': 93, 'Blue Ridge Red Salamander': 59, 'Northern Red Salamander': 43, 'Blackchin Red Salamander': 89, 'American Bullfrog': 169, 'Northern Green Frog': 55, 'California Red-Legged Frog': 43, 'Columbia Spotted Frog': 31, 'Pickerel Frog': 119, 'Northern Leopard Frog': 62, 'Sierra Nevada Yellow-Legged Frog': 11, 'Southern Leopard Frog': 39, 'Wood Frog': 61, 'Eastern Spadefoot': 86, 'Plains Spadefoot': 72, 'Great Basin Spadefoot': 51, 'Sierra Newt': 81, 'Rock Bass': 92, 'Black Bullhead': 82, 'Yellow Bullhead': 95, 'Freshwater Drum': 97, 'Central Stoneroller': 60, 'Largescale Stoneroller': 74, 'Goldfish': 44, 'Utah Sucker': 72, 'Longnose Sucker': 62, 'White Sucker': 53, 'Sacramento Sucker': 58, 'Mountain Sucker': 82, 'June Sucker': 23, 'Rosyside Dace': 96, 'Smoky Dace': 88, 'Mottled Sculpin': 69, 'Banded Sculpin': 92, 'Riffle Sculpin': 41, 'Lake Chub': 47, 'Whitetail Shiner': 78, 'Spotfin Shiner': 78, 'Blacktail Shiner': 67, 'Common Carp': 31, 'Gizzard Shad': 52, 'Spotfin Chub': 18, 'Muskellunge': 87, 'Greenside Darter': 24, 'Bluebreast Darter': 76, 'Greenfin Darter': 54, 'Fantail Darter': 75, 'Tuckasegee Darter': 104, 'Blueside Darter': 62, 'Spotted Darter': 62, 'Duskytail Darter': 31, 'Redline Darter': 94, 'Bloodfin Darter, Spotted Darter': 59, 'Snubnose Darter, Tennessee Snubnose Darter': 22, 'Speckled Darter': 61, 'Swannanoa Darter': 60, 'Wounded Darter': 92, 'Banded Darter': 73, 'Northern Studfish': 54, 'Mosquitofish, Western Mosquitofish': 84, 'Eastern Mosquitofish': 72, 'Utah Chub': 90, 'Flame Chub': 54, 'Bigeye Chub': 69, 'Northern Hog Sucker': 54, 'Chestnut Lamprey': 67, 'Mountain Brook Lamprey': 93, 'Blue Catfish': 72, 'Channel Catfish': 54, 'Brook Silverside': 84, 'American Brook Lamprey': 91, 'Longnose Gar': 79, 'Redbreast Sunfish': 77, 'Green Sunfish': 62, 'Pumpkinseed': 133, 'Warmouth': 83, 'Orangespotted Sunfish': 93, 'Bluegill': 60, 'Longear Sunfish': 67, 'Redear Sunfish': 53, 'Striped Shiner': 55, 'Warpaint Shiner': 35, 'Common Shiner': 77, 'Mountain Shiner': 90, 'Smallmouth Bass': 112, 'Spotted Bass': 108, 'Largemouth Bass': 100, 'White Bass': 110, 'River Redhorse': 79, 'Black Redhorse': 65, 'Golden Redhorse': 73, 'Shorthead Redhorse': 74, 'Hardhead': 71, 'River Chub': 96, 'Emerald Shiner': 62, 'Rough Shiner': 112, 'Tennessee Shiner': 58, 'Silver Shiner': 68, 'Rosyface Shiner': 74, 'Saffron Shiner': 131, 'Mirror Shiner': 59, 'Telescope Shiner': 106, 'Mimic Shiner': 63, 'Smoky Madtom': 23, 'Yellowfin Madtom': 36, 'Stonecat': 62, 'Finespotted Snake River Cutthroat Trout': 65, 'Yellowstone Cutthroat Trout': 66, 'Lahontan Cutthroat Trout': 48, 'Westslope Cutthroat Trout': 69, 'Rainbow Trout': 100, 'California Golden Trout': 67, 'Yellow Perch': 66, 'Tangerine Darter': 61, 'Blotchside Darter': 87, 'Logperch': 78, 'Gilt Darter': 93, 'Olive Darter': 58, 'Riffle Minnow': 93, 'Fatlips Minnow': 94, 'Stargazing Minnow': 50, 'Mountain Redbelly Dace': 74, 'Tennessee Dace': 92, 'Black Crappie': 68, 'Mountain Whitefish': 83, 'Sacramento Pikeminnow': 102, 'Flathead Catfish': 77, 'Longnose Dace': 68, 'Western Blacknose Dace': 73, 'Speckled Dace': 62, 'Redside Shiner': 91, 'Brown Trout': 65, 'Brook Trout': 176, 'Lake Trout': 86, 'Creek Chub': 73, 'Sauger': 96, 'Walleye': 108, 'Arctic Grayling': 49}\n"
     ]
    },
    {
     "data": {
      "text/plain": [
       "'The above is a test, to see what process is necessary to find the number of observations of each species in a park.'"
      ]
     },
     "execution_count": 9,
     "metadata": {},
     "output_type": "execute_result"
    }
   ],
   "source": [
    "great_smoky_mountains_species= list(find_species_by_park_and_category('Great Smoky Mountains National Park', 'Mammal'))\n",
    "great_smoky_mountains_species+= list(find_species_by_park_and_category('Great Smoky Mountains National Park', 'Bird'))\n",
    "great_smoky_mountains_species+= list(find_species_by_park_and_category('Great Smoky Mountains National Park', 'Reptile'))\n",
    "great_smoky_mountains_species+= list(find_species_by_park_and_category('Great Smoky Mountains National Park', 'Amphibian'))\n",
    "great_smoky_mountains_species+= list(find_species_by_park_and_category('Great Smoky Mountains National Park', 'Fish'))\n",
    "\n",
    "great_smoky_mountains_species = {translate_common_name(animal): observations[(observations['scientific_name'] == animal) & (observations['park_name'] == \"Great Smoky Mountains National Park\")]['observations'].sum() for animal in great_smoky_mountains_species}\n",
    "\n",
    "print(great_smoky_mountains_species)\n",
    "\n",
    "\"\"\"The above is a test, to see what process is necessary to find the number of observations of each species in a park.\"\"\""
   ]
  },
  {
   "cell_type": "code",
   "execution_count": null,
   "metadata": {},
   "outputs": [],
   "source": []
  }
 ],
 "metadata": {
  "kernelspec": {
   "display_name": "Python 3",
   "language": "python",
   "name": "python3"
  },
  "language_info": {
   "codemirror_mode": {
    "name": "ipython",
    "version": 3
   },
   "file_extension": ".py",
   "mimetype": "text/x-python",
   "name": "python",
   "nbconvert_exporter": "python",
   "pygments_lexer": "ipython3",
   "version": "3.11.3"
  }
 },
 "nbformat": 4,
 "nbformat_minor": 4
}
